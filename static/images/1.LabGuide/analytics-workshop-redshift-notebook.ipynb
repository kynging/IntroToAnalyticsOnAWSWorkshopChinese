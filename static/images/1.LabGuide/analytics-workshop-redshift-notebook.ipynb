{
 "cells": [
  {
   "cell_type": "markdown",
   "metadata": {},
   "source": [
    "# Redshift Lab\n",
    "\n",
    "Take your time to read through the instructions provided in this notebook.\n",
    "\n",
    "### _Learning Objectives_\n",
    "\n",
    "- Understand how to interactivly author Glue ETL scripts using Glue Dev Endpoints & SageMaker notebooks (This portion has already been covered under \"Transform Data with AWS Glue\" module). \n",
    "- Use Glue to do record level transformations and write them to redshift tables. \n",
    "\n",
    "### Here are the steps which we will perform\n",
    "\n",
    "![image.png](attachment:image.png)\n",
    "\n",
    "**Execute the code blocks one cell at a time**\n",
    "\n",
    "Execute Code 🔻\n"
   ]
  },
  {
   "cell_type": "code",
   "execution_count": null,
   "metadata": {
    "scrolled": false
   },
   "outputs": [],
   "source": [
    "import sys\n",
    "from awsglue.transforms import *\n",
    "from awsglue.utils import getResolvedOptions\n",
    "from pyspark.context import SparkContext\n",
    "from awsglue.context import GlueContext\n",
    "from awsglue.job import Job"
   ]
  },
  {
   "cell_type": "markdown",
   "metadata": {},
   "source": [
    "## Exploring your raw dataset\n",
    "- In this step you will:\n",
    "    - Create a dynamic frame for your 'raw' table from AWS Glue catalog\n",
    "    - Explore the schema of the datasets\n",
    "    - Count rows in raw table\n",
    "    - View a sample of the data \n",
    "\n",
    "### Glue Dynamic Frames Basics\n",
    "\n",
    "- AWS Glue's dynamic data frames is a powerful data structure.\n",
    "- They provide a precise representation of the underlying semi-structured data, especially when dealing with columns or fields with varying types.\n",
    "- They also provide powerful primitives to deal with nesting and unnesting.\n",
    "- A dynamic record is a self-describing record: Each record encodes its columns and types, so every record can have a schema that is unique from all others in the dynamic frame.\n",
    "- For ETL, we needed somthing more dynamic, hence we created the Glue Dynamic DataFrames. DDF are an implementaion of DF that relaxes the requiements of having a rigid schema. Its designed for semi-structured data.\n",
    "- It maintains a schema per-record, its easy to restucture, tag and modify. \n",
    "\n",
    "\n",
    "#### Read More : https://docs.aws.amazon.com/glue/latest/dg/aws-glue-api-crawler-pyspark-extensions-dynamic-frame.html\n",
    "\n",
    "#### Execute Code 🔻\n"
   ]
  },
  {
   "cell_type": "code",
   "execution_count": null,
   "metadata": {},
   "outputs": [],
   "source": [
    "glueContext = GlueContext(SparkContext.getOrCreate())\n",
    "spark = glueContext.spark_session"
   ]
  },
  {
   "cell_type": "markdown",
   "metadata": {},
   "source": [
    "## Crate dynamic frame from Glue catalog\n",
    "- In this block we are using gluecontext to create a new dynamicframe from glue catalog\n",
    "\n",
    "Other ways to create dynamicframes in Glue:\n",
    "- create_dynamic_frame_from_rdd\n",
    "- create_dynamic_frame_from_catalog\n",
    "- create_dynamic_frame_from_options\n",
    "\n",
    "#### Read More:https://docs.aws.amazon.com/glue/latest/dg/aws-glue-api-crawler-pyspark-extensions-glue-context.html\n",
    "\n",
    "#### Execute Code 🔻\n"
   ]
  },
  {
   "cell_type": "code",
   "execution_count": null,
   "metadata": {},
   "outputs": [],
   "source": [
    "raw_data = glueContext.create_dynamic_frame.from_catalog(database=\"analyticsworkshopdb\", table_name=\"raw\")\n",
    "\n",
    "reference_data = glueContext.create_dynamic_frame.from_catalog(database=\"analyticsworkshopdb\", table_name=\"reference_data\")"
   ]
  },
  {
   "cell_type": "markdown",
   "metadata": {},
   "source": [
    "## View schema\n",
    "- In this step we view the schema of the dynamic frame\n",
    "- printSchema() – Prints the schema of the underlying DataFrame.\n",
    "\n",
    "#### Execute Code 🔻\n"
   ]
  },
  {
   "cell_type": "code",
   "execution_count": null,
   "metadata": {},
   "outputs": [],
   "source": [
    "raw_data.printSchema()"
   ]
  },
  {
   "cell_type": "code",
   "execution_count": null,
   "metadata": {
    "scrolled": true
   },
   "outputs": [],
   "source": [
    "reference_data.printSchema()"
   ]
  },
  {
   "cell_type": "markdown",
   "metadata": {},
   "source": [
    "## Count records\n",
    "- In this step we will count the number of records in the dataframe\n",
    "- count() – Returns the number of rows in the underlying DataFrame\n",
    "\n",
    "#### Execute Code 🔻\n"
   ]
  },
  {
   "cell_type": "code",
   "execution_count": null,
   "metadata": {
    "scrolled": true
   },
   "outputs": [],
   "source": [
    "print(f'raw_data (count) = {raw_data.count()}')\n",
    "print(f'reference_data (count) = {reference_data.count()}')"
   ]
  },
  {
   "cell_type": "markdown",
   "metadata": {},
   "source": [
    "## Show sample raw records\n",
    "- You can use to method to show samples of data in the datasets\n",
    "- use show() method to display a sample of records in the frame\n",
    "- here were are showing the top 5 records in the DF\n",
    "\n",
    "\n",
    "#### Execute Code 🔻\n"
   ]
  },
  {
   "cell_type": "code",
   "execution_count": null,
   "metadata": {},
   "outputs": [],
   "source": [
    "raw_data.toDF().show(5)"
   ]
  },
  {
   "cell_type": "markdown",
   "metadata": {},
   "source": [
    "## Define Transformation Functions\n",
    "- You can define attribute level transformation functions (**load_time_fn** here). \"**load_time_fn**\" combines partition column values into one single attribute \"**load_time**\" in YYYYMMDDHH24 format as an integer. \n",
    "- Call all attribute level transformation functions for each record in dynamic dataframe in record level transformation function (**transformRec** here)\n",
    "\n",
    "#### Execute Code 🔻\n"
   ]
  },
  {
   "cell_type": "code",
   "execution_count": null,
   "metadata": {},
   "outputs": [],
   "source": [
    "def load_time_fn(partition_0, partition_1, partition_2, partition_3):\n",
    "    x = partition_0 + partition_1 + partition_2 + partition_3\n",
    "    x = int(x)\n",
    "    return x"
   ]
  },
  {
   "cell_type": "code",
   "execution_count": null,
   "metadata": {},
   "outputs": [],
   "source": [
    "def transformRec(rec):\n",
    "    rec[\"load_time\"] = load_time_fn(rec[\"partition_0\"], rec[\"partition_1\"], rec[\"partition_2\"], rec[\"partition_3\"])\n",
    "    return rec"
   ]
  },
  {
   "cell_type": "markdown",
   "metadata": {},
   "source": [
    "## Apply Transformations\n",
    "- Apply all transformations and store it back in dynamic data frame - \"**raw_data_x**\"\n",
    "\n",
    "###### Read more about AWS Glue transforms here : https://docs.aws.amazon.com/glue/latest/dg/built-in-transforms.html\n",
    "\n",
    "#### Execute Code 🔻\n"
   ]
  },
  {
   "cell_type": "code",
   "execution_count": null,
   "metadata": {},
   "outputs": [],
   "source": [
    "raw_data_x = Map.apply(frame=raw_data, f=transformRec)"
   ]
  },
  {
   "cell_type": "markdown",
   "metadata": {},
   "source": [
    "## Show sample transformed raw records\n",
    "- You can use to method to show samples of data in the datasets\n",
    "- use show() method to display a sample of records in the frame\n",
    "- here were are showing the top 5 records in the DF\n",
    "\n",
    "###### Read more about AWS Glue transforms here : https://docs.aws.amazon.com/glue/latest/dg/built-in-transforms.html\n",
    "\n",
    "#### Execute Code 🔻\n"
   ]
  },
  {
   "cell_type": "code",
   "execution_count": null,
   "metadata": {
    "scrolled": true
   },
   "outputs": [],
   "source": [
    "raw_data_x.toDF().show(5)"
   ]
  },
  {
   "cell_type": "markdown",
   "metadata": {},
   "source": [
    "## Drop fields\n",
    "- Once \"**load_time**\" attribute is generated, we will drop original partition columns using \"**drop_fields**\" method.\n",
    "- These were generated by firehose for placing the files in yyyy/mm/dd/hh directory structure in S3\n",
    "- We will use Glue's in-built **DropFields** transform to drop partition columns\n",
    "\n",
    "###### Read more about AWS Glue transforms here : https://docs.aws.amazon.com/glue/latest/dg/built-in-transforms.html\n",
    "\n",
    "#### Execute Code 🔻\n"
   ]
  },
  {
   "cell_type": "code",
   "execution_count": null,
   "metadata": {},
   "outputs": [],
   "source": [
    "raw_data_clean = raw_data_x.drop_fields(['partition_0', 'partition_1', 'partition_2', 'partition_3'])"
   ]
  },
  {
   "cell_type": "markdown",
   "metadata": {},
   "source": [
    "## Show sample transformed cleaned raw records\n",
    "- You can use to method to show samples of data in the datasets\n",
    "- use show() method to display a sample of records in the frame\n",
    "- here were are showing the top 5 records in the DF\n",
    "\n",
    "#### Execute Code 🔻\n"
   ]
  },
  {
   "cell_type": "code",
   "execution_count": null,
   "metadata": {},
   "outputs": [],
   "source": [
    "raw_data_clean.toDF().show(5)"
   ]
  },
  {
   "cell_type": "markdown",
   "metadata": {},
   "source": [
    "## Redshift Connection Parameters\n",
    "- We will use \"**analytics_workshop**\" Glue connection to connect to Redshift cluster.\n",
    "- We will create connection option for raw table consisting of schema name, table name and database name.\n",
    "- We will create a temp output directory for Glue to use as a staging area for loading data into Redshift.\n",
    "\n",
    "#### Execute Code 🔻\n"
   ]
  },
  {
   "cell_type": "code",
   "execution_count": null,
   "metadata": {},
   "outputs": [],
   "source": [
    "connection_options_raw = {\n",
    "    \"dbtable\": \"redshift_lab.f_raw_1\",\n",
    "    \"database\": \"dev\"\n",
    "}\n",
    "\n",
    "output_dir_tmp = \"s3://yourname-analytics-workshop-bucket/data\""
   ]
  },
  {
   "cell_type": "markdown",
   "metadata": {},
   "source": [
    "## Cast columns into desired format\n",
    "- We will explicitly cast all columns into desired datatypes.\n",
    "- If we dont perform this step, redshift on mismatch will create additional columns and then load the data. Ex: \"device_ts\" defined as timestamp in Redshift raw table DDL. If we dont cast this column from string to timestamp, a new column will be created in redshift \"f_raw_1\" table as \"device_ts_string\" which will have device_ts attribute values while original \"device_ts\" column which is defined as timestamp will stay blank.\n",
    "\n",
    "\n",
    "#### Execute Code 🔻\n",
    "\n"
   ]
  },
  {
   "cell_type": "code",
   "execution_count": null,
   "metadata": {},
   "outputs": [],
   "source": [
    "raw_data_clean = ApplyMapping.apply(\n",
    "    frame=raw_data_clean,\n",
    "    mappings=[\n",
    "        (\"uuid\", \"string\", \"uuid\", \"string\"),\n",
    "        (\"device_ts\", \"string\", \"device_ts\", \"timestamp\"),\n",
    "        (\"device_id\", \"int\", \"device_id\", \"int\"),\n",
    "        (\"device_temp\", \"int\", \"device_temp\", \"int\"),\n",
    "        (\"track_id\", \"int\", \"track_id\", \"int\"),\n",
    "        (\"activity_type\", \"string\", \"activity_type\", \"string\"),\n",
    "        (\"load_time\", \"int\", \"load_time\", \"int\")\n",
    "    ]\n",
    ")"
   ]
  },
  {
   "cell_type": "markdown",
   "metadata": {},
   "source": [
    "## Load raw data in Redshift\n",
    "\n",
    "- Finally, we will load cleaned raw data dynamic frame into redshift table - \"**redshift_lab.f_raw_1**\"\n",
    "- We will Glue dynamic frame writer class to perform this action.\n",
    "\n",
    "###### Read more about AWS Glue dynamic frame writer here : https://docs.aws.amazon.com/glue/latest/dg/aws-glue-api-crawler-pyspark-extensions-dynamic-frame-writer.html\n",
    "\n",
    "#### Execute Code 🔻\n"
   ]
  },
  {
   "cell_type": "code",
   "execution_count": null,
   "metadata": {},
   "outputs": [],
   "source": [
    "try:\n",
    "    print(\"INFO: Loading raw data into Amazon Redshift\")\n",
    "    glueContext.write_dynamic_frame.from_jdbc_conf(\n",
    "        frame=raw_data_clean,\n",
    "        catalog_connection=\"analytics_workshop\",\n",
    "        connection_options=connection_options_raw,\n",
    "        redshift_tmp_dir=output_dir_tmp + \"/tmp/\"\n",
    "    )\n",
    "    print(\"INFO: Raw data loading into Amazon Redshift complete\")\n",
    "except Exception as e:\n",
    "    print(f\"ERROR: An exception has occurred: {str(e)}\")"
   ]
  },
  {
   "cell_type": "markdown",
   "metadata": {},
   "source": [
    "## Redshift Connection Parameters\n",
    "- We will use \"**analytics_workshop**\" Glue connection to connect to Redshift cluster.\n",
    "- We will create connection option for raw table consisting of schema name, table name and database name.\n",
    "\n",
    "#### Execute Code 🔻\n"
   ]
  },
  {
   "cell_type": "code",
   "execution_count": null,
   "metadata": {},
   "outputs": [],
   "source": [
    "connection_options_rd = {\n",
    "    \"dbtable\": \"redshift_lab.d_ref_data_1\",\n",
    "    \"database\": \"dev\"\n",
    "}"
   ]
  },
  {
   "cell_type": "markdown",
   "metadata": {},
   "source": [
    "## Cast columns into desired format\n",
    "- We will explicitly cast all columns into desired datatypes.\n",
    "- If we dont perform this step, redshift on mismatch will create additional columns and then load the data. Ex: \"track_id\" defined as integer in Redshift raw table DDL. If we dont cast this column from string to int, a new column will be created in redshift \"d_ref_data_1\" table as \"track_id_string\" which will have track_id attribute values while original \"track_id\" column which is defined as int will stay blank.\n",
    "\n",
    "\n",
    "#### Execute Code 🔻\n"
   ]
  },
  {
   "cell_type": "code",
   "execution_count": null,
   "metadata": {},
   "outputs": [],
   "source": [
    "reference_data_clean = ApplyMapping.apply(\n",
    "    frame=reference_data,\n",
    "    mappings=[\n",
    "        (\"track_id\", \"string\", \"track_id\", \"int\"),\n",
    "        (\"track_name\", \"string\", \"track_name\", \"string\"),\n",
    "        (\"artist_name\", \"string\", \"artist_name\", \"string\")\n",
    "    ]\n",
    ")"
   ]
  },
  {
   "cell_type": "markdown",
   "metadata": {},
   "source": [
    "## Show sample transformed reference records\n",
    "- You can use to method to show samples of data in the datasets\n",
    "- use show() method to display a sample of records in the frame\n",
    "- here were are showing the top 5 records in the DF\n",
    "\n",
    "#### Execute Code 🔻\n"
   ]
  },
  {
   "cell_type": "code",
   "execution_count": null,
   "metadata": {},
   "outputs": [],
   "source": [
    "reference_data_clean.toDF().show(5)"
   ]
  },
  {
   "cell_type": "markdown",
   "metadata": {},
   "source": [
    "## Load reference data in Redshift\n",
    "\n",
    "- Finally, we will load cleaned reference data dynamic frame into redshift table - \"**redshift_lab.d_ref_data_1**\"\n",
    "- We will Glue dynamic frame writer class to perform this action.\n",
    "\n",
    "###### Read more about AWS Glue dynamic frame writer here : https://docs.aws.amazon.com/glue/latest/dg/aws-glue-api-crawler-pyspark-extensions-dynamic-frame-writer.html\n",
    "\n",
    "#### Execute Code 🔻\n"
   ]
  },
  {
   "cell_type": "code",
   "execution_count": null,
   "metadata": {},
   "outputs": [],
   "source": [
    "try:\n",
    "    print(\"INFO: Loading reference data into Amazon Redshift\")\n",
    "    glueContext.write_dynamic_frame.from_jdbc_conf(\n",
    "        frame=reference_data_clean,\n",
    "        catalog_connection = \"analytics_workshop\",\n",
    "        connection_options = connection_options_rd,\n",
    "        redshift_tmp_dir = output_dir_tmp + \"/tmp/\"\n",
    "    )\n",
    "    print(\"INFO: Reference data loading into Amazon Redshift complete\")\n",
    "except Exception as e:\n",
    "    print(f\"ERROR: An exception has occurred: {str(e)}\")"
   ]
  },
  {
   "cell_type": "markdown",
   "metadata": {},
   "source": [
    "# 😎\n",
    "========================="
   ]
  },
  {
   "cell_type": "markdown",
   "metadata": {},
   "source": [
    "### If you wish you take this notebook and its output back home - you can download / export it:\n",
    "\n",
    "* In Jupyter's menu bar click **File**:\n",
    "    * Download As: Notebook(.ipynb) (you can reimport it a jupyter notebook in the future)\n",
    "    * Download As: HTML (shows code + results in an easy to read format)\n"
   ]
  },
  {
   "cell_type": "markdown",
   "metadata": {},
   "source": [
    "# NEXT Steps: Go back to the lab guide"
   ]
  },
  {
   "cell_type": "markdown",
   "metadata": {},
   "source": [
    "========================="
   ]
  }
 ],
 "metadata": {
  "kernelspec": {
   "display_name": "Sparkmagic (PySpark)",
   "language": "",
   "name": "pysparkkernel"
  },
  "language_info": {
   "codemirror_mode": {
    "name": "python",
    "version": 3
   },
   "mimetype": "text/x-python",
   "name": "pyspark",
   "pygments_lexer": "python3"
  },
  "pycharm": {
   "stem_cell": {
    "cell_type": "raw",
    "source": [],
    "metadata": {
     "collapsed": false
    }
   }
  }
 },
 "nbformat": 4,
 "nbformat_minor": 4
}
